{
 "cells": [
  {
   "cell_type": "markdown",
   "metadata": {},
   "source": [
    "# Simulations for firm entry problem"
   ]
  },
  {
   "cell_type": "markdown",
   "metadata": {},
   "source": [
    "This is an exercise I adapted from an Econometrics course I took. \n",
    "\n",
    "The main purpose of this notebook is to exercise MC simulations. I do that in the second part. In the first part I solve the problem with exact calculations. \n",
    "\n",
    "The context is a problem where a firm has to decide whether to enter to a market or not. In each market, up to 2 firms can enter. If no firm enters, each firms get a payoff of 0. If both firms enter, the profits are lower than the profits when one firm enter. The purpose is to predict the number of firms in each market estimating a model where firm and market characteristics are taken into account.\n",
    "\n",
    "Let the payoff of a firm $i$ in a market $k$ be 0 if the firm does not enter, or $$\\pi_{i,k}=X'_k \\beta + \\alpha Z_i - \\delta log(N_k + 1) + \\varepsilon_{i,k}$$\n",
    "if the firm enters. Let $X_k$ be observed characteristics of the market and $Z_i$ firm fixed-effects. Let $N_k$ the number of firms that enter to the market (it can be 1 or 2). Suppose there are two market characteristics, $\\varepsilon$ distribution is known and parameters are observed.\n",
    "\n",
    "Both firms enter if, for i=1,2, $$X_1 \\beta_1 + X_2 \\beta_2 + Z_i \\alpha - \\delta log(3) > 0$$\n",
    "No firms enter if, for i=1,2, $$X_1 \\beta_1 + X_2 \\beta_2 + Z_i \\alpha - \\delta log(2) < 0$$\n",
    "\n",
    "From observing the markets we can compute the observed probabilities of 0, 1 and 2 firms competing. \n",
    "\n",
    "In this exercise:\n",
    "* First, I compute the thresholds by using parametrizations of $\\beta$, $\\alpha$ and $\\delta$, $Z_i$ and the distributions of $X_1$ and $X_2$. I can use the CDF of a known distribution for $\\varepsilon$ to compute the probabilities of having 0, 1 or 2 firms in that market.\n",
    "* Second, instead of computing the probabilities using a CDF, I draw a number of observations of $\\varepsilon$ from that distribution and compare it to the to thresholds values.\n",
    "\n",
    "In both cases, I estimate $E(N)$ for a vector of length 2000 (2000 markets) with randomized X values. In order to \"draw\" the density, I plot histograms. Both question 1 and question 2 give similar results on the probabilities and the expectations. "
   ]
  },
  {
   "cell_type": "markdown",
   "metadata": {},
   "source": [
    "#### Parametrizations\n",
    "\n",
    "Let $X_1 \\sim N(0,1)$ and $X_2 \\sim N(0,3)$, $Z_1=1$ and $Z_2=2$.\n",
    "\n",
    "Let $(\\varepsilon_1, \\varepsilon_2) \\sim BVN \\begin{pmatrix} 0 \\\\ 0 \\end{pmatrix},  \\begin{pmatrix} 1 & 0.5 \\\\ 0.5 & 1 \\end{pmatrix}$\n",
    "\n",
    "Let $\\beta=[0.5, 1.2]$, $\\alpha=-.5$, $\\delta=.3$ and $K=2000$."
   ]
  },
  {
   "cell_type": "code",
   "execution_count": 1,
   "metadata": {},
   "outputs": [],
   "source": [
    "import numpy as np \n",
    "import math\n",
    "from scipy.stats import multivariate_normal\n",
    "import matplotlib\n",
    "import matplotlib.pyplot as plt"
   ]
  },
  {
   "cell_type": "code",
   "execution_count": 2,
   "metadata": {},
   "outputs": [],
   "source": [
    "# Setting parameters\n",
    "beta = [0.5, 1.2]\n",
    "alpha = -0.5\n",
    "delta = 0.3\n",
    "K=2000\n",
    "Z1=1\n",
    "Z2=2\n",
    "M=[[1, 0.5], [0.5, 1]]\n",
    "\n",
    "## Random variables\n",
    "draws_X1 = [np.random.normal(0, 1) for _ in range(2000)]\n",
    "draws_X2 = [np.random.normal(0, 3) for _ in range(2000)]\n",
    "draws_eps = [np.random.multivariate_normal(mean=[0,0], cov=M) for _ in range(2000)]\n",
    "\n",
    "## Initialize vectors with zero-vectors\n",
    "r_1_0 = np.zeros(2000)\n",
    "r_2_0 = np.zeros(2000)\n",
    "r_1_2 = np.zeros(2000)\n",
    "r_2_2 = np.zeros(2000)\n",
    "p_0 = np.zeros(2000)\n",
    "p_1 = np.zeros(2000)\n",
    "p_2 = np.zeros(2000)\n",
    "E_N = np.zeros(2000)\n",
    "\n",
    "p_0_0 = np.zeros(2000)\n",
    "p_2_1 = np.zeros(2000)\n",
    "\n",
    "p_0_MC = np.zeros(2000)\n",
    "p_1_MC = np.zeros(2000)\n",
    "p_2_MC = np.zeros(2000)\n",
    "E_N_MC = np.zeros(2000)\n"
   ]
  },
  {
   "cell_type": "code",
   "execution_count": 3,
   "metadata": {},
   "outputs": [],
   "source": [
    "### Calculating thresholds for each market\n",
    "for j in range(0,2000):\n",
    "    r_1_0[j]= draws_X1[j] * beta[0] + draws_X2[j] * beta[1] + Z1 * alpha - delta * math.log(2)\n",
    "    r_2_0[j]= draws_X1[j] * beta[0] + draws_X2[j] * beta[1] + Z2 * alpha - delta * math.log(2)\n",
    "    r_1_2[j]= draws_X1[j] * beta[0] + draws_X2[j] * beta[1] + Z1 * alpha - delta * math.log(3)\n",
    "    r_2_2[j]= draws_X1[j] * beta[0] + draws_X2[j] * beta[1] + Z2 * alpha - delta * math.log(3)"
   ]
  },
  {
   "cell_type": "code",
   "execution_count": 4,
   "metadata": {},
   "outputs": [],
   "source": [
    "### Calculating probabilities using multivariate normal cdf\n",
    "for j in range(0,2000):\n",
    "    p_0[j] = multivariate_normal.cdf([(-1)*r_1_0[j], (-1)*r_2_0[j]], mean=[0,0], cov=M)\n",
    "    p_2[j] = multivariate_normal.cdf([r_1_2[j], r_2_2[j]], mean=[0,0], cov=M)\n",
    "    p_1[j] = 1-p_0[j]-p_2[j]\n",
    "    E_N[j]=  p_1[j] +2*p_2[j] #### This give E(N) for each market"
   ]
  },
  {
   "cell_type": "code",
   "execution_count": 5,
   "metadata": {
    "scrolled": true
   },
   "outputs": [
    {
     "data": {
      "text/plain": [
       "(array([672.,  61.,  42.,  29.,  25.,  24.,  14.,  15.,  17.,   9.,  12.,\n",
       "         15.,  13.,   7.,  11.,  12.,  12.,   7.,   6.,  17.,  11.,   4.,\n",
       "          9.,   5.,   6.,  12.,   7.,  11.,   2.,   5.,   3.,   5.,   9.,\n",
       "          6.,  15.,   5.,   5.,   9.,   4.,   5.,   6.,   4.,   4.,   3.,\n",
       "          6.,   8.,   4.,   2.,   3.,   3.,  10.,   8.,   8.,   8.,   4.,\n",
       "          7.,   7.,   7.,   4.,   1.,  10.,   7.,   9.,   6.,   8.,   4.,\n",
       "          1.,   5.,  11.,   8.,   5.,   4.,   2.,  13.,   4.,   8.,   8.,\n",
       "          8.,  10.,   6.,  11.,   6.,   7.,   8.,  12.,  12.,   9.,   8.,\n",
       "          5.,  12.,   6.,  15.,  14.,  16.,  22.,  24.,  18.,  27.,  45.,\n",
       "        321.]),\n",
       " array([3.80638393e-52, 2.00000000e-02, 4.00000000e-02, 6.00000000e-02,\n",
       "        8.00000000e-02, 1.00000000e-01, 1.20000000e-01, 1.40000000e-01,\n",
       "        1.60000000e-01, 1.80000000e-01, 2.00000000e-01, 2.20000000e-01,\n",
       "        2.40000000e-01, 2.60000000e-01, 2.80000000e-01, 3.00000000e-01,\n",
       "        3.20000000e-01, 3.40000000e-01, 3.60000000e-01, 3.80000000e-01,\n",
       "        4.00000000e-01, 4.20000000e-01, 4.40000000e-01, 4.60000000e-01,\n",
       "        4.80000000e-01, 5.00000000e-01, 5.20000000e-01, 5.40000000e-01,\n",
       "        5.60000000e-01, 5.80000000e-01, 6.00000000e-01, 6.20000000e-01,\n",
       "        6.40000000e-01, 6.60000000e-01, 6.80000000e-01, 7.00000000e-01,\n",
       "        7.20000000e-01, 7.40000000e-01, 7.60000000e-01, 7.80000000e-01,\n",
       "        8.00000000e-01, 8.20000000e-01, 8.40000000e-01, 8.60000000e-01,\n",
       "        8.80000000e-01, 9.00000000e-01, 9.20000000e-01, 9.40000000e-01,\n",
       "        9.60000000e-01, 9.80000000e-01, 1.00000000e+00, 1.02000000e+00,\n",
       "        1.04000000e+00, 1.06000000e+00, 1.08000000e+00, 1.10000000e+00,\n",
       "        1.12000000e+00, 1.14000000e+00, 1.16000000e+00, 1.18000000e+00,\n",
       "        1.20000000e+00, 1.22000000e+00, 1.24000000e+00, 1.26000000e+00,\n",
       "        1.28000000e+00, 1.30000000e+00, 1.32000000e+00, 1.34000000e+00,\n",
       "        1.36000000e+00, 1.38000000e+00, 1.40000000e+00, 1.42000000e+00,\n",
       "        1.44000000e+00, 1.46000000e+00, 1.48000000e+00, 1.50000000e+00,\n",
       "        1.52000000e+00, 1.54000000e+00, 1.56000000e+00, 1.58000000e+00,\n",
       "        1.60000000e+00, 1.62000000e+00, 1.64000000e+00, 1.66000000e+00,\n",
       "        1.68000000e+00, 1.70000000e+00, 1.72000000e+00, 1.74000000e+00,\n",
       "        1.76000000e+00, 1.78000000e+00, 1.80000000e+00, 1.82000000e+00,\n",
       "        1.84000000e+00, 1.86000000e+00, 1.88000000e+00, 1.90000000e+00,\n",
       "        1.92000000e+00, 1.94000000e+00, 1.96000000e+00, 1.98000000e+00,\n",
       "        2.00000000e+00]),\n",
       " <a list of 100 Patch objects>)"
      ]
     },
     "execution_count": 5,
     "metadata": {},
     "output_type": "execute_result"
    },
    {
     "data": {
      "image/png": "[encoded data removed]",
      "text/plain": [
       "<Figure size 432x288 with 1 Axes>"
      ]
     },
     "metadata": {
      "needs_background": "light"
     },
     "output_type": "display_data"
    }
   ],
   "source": [
    "### Plotting histogram of E(N). It shows concentration on both 0 and 2. \n",
    "### However, a higher concentration close E(N)=0 occurs\n",
    "plt.hist(x=E_N, bins=100)"
   ]
  },
  {
   "cell_type": "code",
   "execution_count": 6,
   "metadata": {
    "scrolled": true
   },
   "outputs": [],
   "source": [
    "### Second Question\n",
    "\n",
    "for i in range(0,2000):\n",
    "    p_0_MC_c = np.zeros(2000)\n",
    "    p_2_MC_c = np.zeros(2000)\n",
    "    for j in range(0,2000):\n",
    "        # If both epsilon draws are lower than -r_0, I augment p_0 in 1/2000\n",
    "        if draws_eps[j][0]< -r_1_0[i] and draws_eps[j][1]< -r_2_0[i]:\n",
    "            p_0_MC_c[j] = 1 \n",
    "        # If both epsilon draws are higher than -r_2, I augment p_2 in 1/2000\n",
    "        if draws_eps[j][0]> -r_1_2[i] and draws_eps[j][1]> -r_2_2[i]:\n",
    "            p_2_MC_c[j] = 1\n",
    "\n",
    "    p_0_MC[i]=p_0_MC_c.sum()/2000    \n",
    "    p_2_MC[i]=p_2_MC_c.sum()/2000\n",
    "    p_1_MC[i]  = 1-p_0_MC[i] -p_2_MC[i] \n",
    "    E_N_MC[i]=  p_1_MC[i] + 2*p_2_MC[i]"
   ]
  },
  {
   "cell_type": "code",
   "execution_count": 7,
   "metadata": {},
   "outputs": [
    {
     "data": {
      "text/plain": [
       "(array([669.,  64.,  40.,  26.,  26.,  23.,  14.,  16.,  10.,  14.,  10.,\n",
       "         13.,  16.,  11.,   9.,  11.,  13.,   9.,   7.,  13.,  15.,   4.,\n",
       "          8.,   7.,   3.,  10.,  13.,   4.,   7.,   2.,   6.,   2.,   8.,\n",
       "         10.,  11.,   9.,   3.,   4.,   9.,   4.,   5.,   6.,   4.,   4.,\n",
       "          3.,   6.,   8.,   4.,   3.,   3.,   4.,  15.,   3.,  12.,   5.,\n",
       "          3.,  10.,   6.,   4.,   4.,  10.,   6.,   9.,   7.,   9.,   3.,\n",
       "          0.,   5.,  11.,   6.,   5.,   5.,   3.,   7.,   8.,  10.,   8.,\n",
       "          9.,  10.,   7.,  10.,   7.,   6.,   9.,   9.,  11.,   8.,   8.,\n",
       "         12.,  10.,   6.,  20.,  10.,  18.,  22.,  23.,  16.,  33.,  38.,\n",
       "        321.]),\n",
       " array([0.  , 0.02, 0.04, 0.06, 0.08, 0.1 , 0.12, 0.14, 0.16, 0.18, 0.2 ,\n",
       "        0.22, 0.24, 0.26, 0.28, 0.3 , 0.32, 0.34, 0.36, 0.38, 0.4 , 0.42,\n",
       "        0.44, 0.46, 0.48, 0.5 , 0.52, 0.54, 0.56, 0.58, 0.6 , 0.62, 0.64,\n",
       "        0.66, 0.68, 0.7 , 0.72, 0.74, 0.76, 0.78, 0.8 , 0.82, 0.84, 0.86,\n",
       "        0.88, 0.9 , 0.92, 0.94, 0.96, 0.98, 1.  , 1.02, 1.04, 1.06, 1.08,\n",
       "        1.1 , 1.12, 1.14, 1.16, 1.18, 1.2 , 1.22, 1.24, 1.26, 1.28, 1.3 ,\n",
       "        1.32, 1.34, 1.36, 1.38, 1.4 , 1.42, 1.44, 1.46, 1.48, 1.5 , 1.52,\n",
       "        1.54, 1.56, 1.58, 1.6 , 1.62, 1.64, 1.66, 1.68, 1.7 , 1.72, 1.74,\n",
       "        1.76, 1.78, 1.8 , 1.82, 1.84, 1.86, 1.88, 1.9 , 1.92, 1.94, 1.96,\n",
       "        1.98, 2.  ]),\n",
       " <a list of 100 Patch objects>)"
      ]
     },
     "execution_count": 7,
     "metadata": {},
     "output_type": "execute_result"
    },
    {
     "data": {
      "image/png": "[encoded data removed]",
      "text/plain": [
       "<Figure size 432x288 with 1 Axes>"
      ]
     },
     "metadata": {
      "needs_background": "light"
     },
     "output_type": "display_data"
    }
   ],
   "source": [
    "### Histogram for the E(N) calculated with simulations of epsilon. \n",
    "# Results are very similar to the previous part\n",
    "# In the next cells, I compare probabilities and E(N) for each market\n",
    "plt.hist(x=E_N_MC, bins=100)"
   ]
  },
  {
   "cell_type": "code",
   "execution_count": 8,
   "metadata": {},
   "outputs": [
    {
     "data": {
      "text/plain": [
       "(array([  1.,   0.,   2.,   7.,   8.,   5.,   7.,   6.,   2.,   6.,   3.,\n",
       "          8.,   2.,   5.,   6.,   2.,   7.,   2.,   5.,   4.,   7.,   9.,\n",
       "          3.,   6.,  10.,  10.,  12.,   4.,   8.,   8.,  11.,  11.,   4.,\n",
       "          8.,  10.,  13.,  15.,  15.,  14.,  12.,  15.,  16.,  10.,  17.,\n",
       "         23.,  15.,   7.,   8.,  12.,  11.,   6.,   3.,   2.,   4.,   4.,\n",
       "          4.,   5.,   6.,   8.,  11.,   5.,  19.,  14.,  15.,  11.,  21.,\n",
       "         22.,  39.,  50.,  42.,  39.,  54.,  84., 713., 150.,  82.,  59.,\n",
       "         24.,   7.,   6.,  14.,  10.,  10.,   6.,   7.,   1.,   1.,   1.,\n",
       "          2.,   2.,   0.,   3.,   3.,   3.,   6.,   2.,   4.,   0.,   0.,\n",
       "          4.]),\n",
       " array([-2.10322586e-02, -2.07478473e-02, -2.04634359e-02, -2.01790245e-02,\n",
       "        -1.98946132e-02, -1.96102018e-02, -1.93257904e-02, -1.90413791e-02,\n",
       "        -1.87569677e-02, -1.84725563e-02, -1.81881450e-02, -1.79037336e-02,\n",
       "        -1.76193223e-02, -1.73349109e-02, -1.70504995e-02, -1.67660882e-02,\n",
       "        -1.64816768e-02, -1.61972654e-02, -1.59128541e-02, -1.56284427e-02,\n",
       "        -1.53440313e-02, -1.50596200e-02, -1.47752086e-02, -1.44907972e-02,\n",
       "        -1.42063859e-02, -1.39219745e-02, -1.36375631e-02, -1.33531518e-02,\n",
       "        -1.30687404e-02, -1.27843290e-02, -1.24999177e-02, -1.22155063e-02,\n",
       "        -1.19310949e-02, -1.16466836e-02, -1.13622722e-02, -1.10778608e-02,\n",
       "        -1.07934495e-02, -1.05090381e-02, -1.02246267e-02, -9.94021537e-03,\n",
       "        -9.65580401e-03, -9.37139264e-03, -9.08698128e-03, -8.80256991e-03,\n",
       "        -8.51815854e-03, -8.23374718e-03, -7.94933581e-03, -7.66492445e-03,\n",
       "        -7.38051308e-03, -7.09610172e-03, -6.81169035e-03, -6.52727898e-03,\n",
       "        -6.24286762e-03, -5.95845625e-03, -5.67404489e-03, -5.38963352e-03,\n",
       "        -5.10522216e-03, -4.82081079e-03, -4.53639942e-03, -4.25198806e-03,\n",
       "        -3.96757669e-03, -3.68316533e-03, -3.39875396e-03, -3.11434259e-03,\n",
       "        -2.82993123e-03, -2.54551986e-03, -2.26110850e-03, -1.97669713e-03,\n",
       "        -1.69228577e-03, -1.40787440e-03, -1.12346303e-03, -8.39051668e-04,\n",
       "        -5.54640302e-04, -2.70228936e-04,  1.41824293e-05,  2.98593795e-04,\n",
       "         5.83005161e-04,  8.67416527e-04,  1.15182789e-03,  1.43623926e-03,\n",
       "         1.72065062e-03,  2.00506199e-03,  2.28947336e-03,  2.57388472e-03,\n",
       "         2.85829609e-03,  3.14270745e-03,  3.42711882e-03,  3.71153018e-03,\n",
       "         3.99594155e-03,  4.28035292e-03,  4.56476428e-03,  4.84917565e-03,\n",
       "         5.13358701e-03,  5.41799838e-03,  5.70240975e-03,  5.98682111e-03,\n",
       "         6.27123248e-03,  6.55564384e-03,  6.84005521e-03,  7.12446657e-03,\n",
       "         7.40887794e-03]),\n",
       " <a list of 100 Patch objects>)"
      ]
     },
     "execution_count": 8,
     "metadata": {},
     "output_type": "execute_result"
    },
    {
     "data": {
      "image/png": "[encoded data removed]",
      "text/plain": [
       "<Figure size 432x288 with 1 Axes>"
      ]
     },
     "metadata": {
      "needs_background": "light"
     },
     "output_type": "display_data"
    }
   ],
   "source": [
    "# I compare differences between two vectors of probabilities of no entry (p0)\n",
    "# It seems that differences concentrate around 0. That happens also with p1 and p2. \n",
    "plt.hist(p_0_MC-p_0, bins=100)"
   ]
  },
  {
   "cell_type": "code",
   "execution_count": 9,
   "metadata": {},
   "outputs": [
    {
     "data": {
      "text/plain": [
       "(array([  3.,   4.,   4.,   5.,   3.,   2.,   3.,   1.,   0.,   2.,   4.,\n",
       "          1.,   1.,   1.,   0.,   0.,   0.,   0.,   0.,   1.,   0.,   1.,\n",
       "          2.,   3.,   4.,   1.,   4.,   4.,   5.,   8.,  17.,  15.,  11.,\n",
       "          6.,   5.,  11.,   5.,  11.,   9.,  21., 123., 737.,  68.,  65.,\n",
       "         35.,  30.,  38.,  39.,  38.,  37.,  36.,  22.,  26.,   9.,  14.,\n",
       "         19.,  18.,  14.,  11.,  26.,  19.,  19.,  15.,  22.,  17.,  13.,\n",
       "         11.,   9.,   9.,   6.,  15.,  11.,  21.,  18.,  20.,  20.,   9.,\n",
       "          9.,  20.,  13.,   9.,  14.,  13.,  16.,  12.,  10.,  15.,   8.,\n",
       "          8.,   6.,   1.,   4.,   1.,   3.,   0.,   0.,   0.,   0.,   0.,\n",
       "          1.]),\n",
       " array([-1.72065501e-02, -1.67962303e-02, -1.63859104e-02, -1.59755905e-02,\n",
       "        -1.55652706e-02, -1.51549508e-02, -1.47446309e-02, -1.43343110e-02,\n",
       "        -1.39239912e-02, -1.35136713e-02, -1.31033514e-02, -1.26930315e-02,\n",
       "        -1.22827117e-02, -1.18723918e-02, -1.14620719e-02, -1.10517521e-02,\n",
       "        -1.06414322e-02, -1.02311123e-02, -9.82079245e-03, -9.41047258e-03,\n",
       "        -9.00015270e-03, -8.58983283e-03, -8.17951296e-03, -7.76919309e-03,\n",
       "        -7.35887322e-03, -6.94855335e-03, -6.53823348e-03, -6.12791361e-03,\n",
       "        -5.71759374e-03, -5.30727387e-03, -4.89695399e-03, -4.48663412e-03,\n",
       "        -4.07631425e-03, -3.66599438e-03, -3.25567451e-03, -2.84535464e-03,\n",
       "        -2.43503477e-03, -2.02471490e-03, -1.61439503e-03, -1.20407516e-03,\n",
       "        -7.93755285e-04, -3.83435414e-04,  2.68844575e-05,  4.37204329e-04,\n",
       "         8.47524200e-04,  1.25784407e-03,  1.66816394e-03,  2.07848381e-03,\n",
       "         2.48880368e-03,  2.89912355e-03,  3.30944343e-03,  3.71976330e-03,\n",
       "         4.13008317e-03,  4.54040304e-03,  4.95072291e-03,  5.36104278e-03,\n",
       "         5.77136265e-03,  6.18168252e-03,  6.59200239e-03,  7.00232226e-03,\n",
       "         7.41264214e-03,  7.82296201e-03,  8.23328188e-03,  8.64360175e-03,\n",
       "         9.05392162e-03,  9.46424149e-03,  9.87456136e-03,  1.02848812e-02,\n",
       "         1.06952011e-02,  1.11055210e-02,  1.15158408e-02,  1.19261607e-02,\n",
       "         1.23364806e-02,  1.27468005e-02,  1.31571203e-02,  1.35674402e-02,\n",
       "         1.39777601e-02,  1.43880799e-02,  1.47983998e-02,  1.52087197e-02,\n",
       "         1.56190396e-02,  1.60293594e-02,  1.64396793e-02,  1.68499992e-02,\n",
       "         1.72603190e-02,  1.76706389e-02,  1.80809588e-02,  1.84912787e-02,\n",
       "         1.89015985e-02,  1.93119184e-02,  1.97222383e-02,  2.01325581e-02,\n",
       "         2.05428780e-02,  2.09531979e-02,  2.13635178e-02,  2.17738376e-02,\n",
       "         2.21841575e-02,  2.25944774e-02,  2.30047972e-02,  2.34151171e-02,\n",
       "         2.38254370e-02]),\n",
       " <a list of 100 Patch objects>)"
      ]
     },
     "execution_count": 9,
     "metadata": {},
     "output_type": "execute_result"
    },
    {
     "data": {
      "image/png": "[encoded data removed]",
      "text/plain": [
       "<Figure size 432x288 with 1 Axes>"
      ]
     },
     "metadata": {
      "needs_background": "light"
     },
     "output_type": "display_data"
    }
   ],
   "source": [
    "plt.hist(p_1_MC-p_1, bins=100)"
   ]
  },
  {
   "cell_type": "code",
   "execution_count": 10,
   "metadata": {},
   "outputs": [
    {
     "data": {
      "text/plain": [
       "(array([  1.,   1.,   1.,   3.,   2.,   4.,   8.,   7.,   6.,   3.,  10.,\n",
       "         11.,  10.,   8.,  12.,  10.,   8.,  13.,  15.,  20.,  37.,  24.,\n",
       "         16.,  31.,  40.,  41.,  37.,  34.,  23.,  28.,  26.,  40.,  68.,\n",
       "        103., 842.,  64.,  62.,  32.,  24.,  21.,  22.,  27.,  14.,  18.,\n",
       "         10.,  11.,  12.,  10.,  14.,   9.,   5.,   6.,   4.,  10.,   9.,\n",
       "          4.,   9.,   5.,   3.,   4.,   3.,   5.,   2.,   3.,   1.,   1.,\n",
       "          1.,   1.,   0.,   5.,   2.,   0.,   2.,   4.,   1.,   1.,   1.,\n",
       "          0.,   1.,   0.,   0.,   0.,   0.,   0.,   4.,   2.,   0.,   2.,\n",
       "          1.,   0.,   0.,   0.,   0.,   1.,   1.,   0.,   1.,   1.,   0.,\n",
       "          1.]),\n",
       " array([-0.00828792, -0.00804822, -0.00780852, -0.00756882, -0.00732912,\n",
       "        -0.00708942, -0.00684973, -0.00661003, -0.00637033, -0.00613063,\n",
       "        -0.00589093, -0.00565123, -0.00541153, -0.00517183, -0.00493213,\n",
       "        -0.00469244, -0.00445274, -0.00421304, -0.00397334, -0.00373364,\n",
       "        -0.00349394, -0.00325424, -0.00301454, -0.00277484, -0.00253515,\n",
       "        -0.00229545, -0.00205575, -0.00181605, -0.00157635, -0.00133665,\n",
       "        -0.00109695, -0.00085725, -0.00061756, -0.00037786, -0.00013816,\n",
       "         0.00010154,  0.00034124,  0.00058094,  0.00082064,  0.00106034,\n",
       "         0.00130004,  0.00153973,  0.00177943,  0.00201913,  0.00225883,\n",
       "         0.00249853,  0.00273823,  0.00297793,  0.00321763,  0.00345733,\n",
       "         0.00369702,  0.00393672,  0.00417642,  0.00441612,  0.00465582,\n",
       "         0.00489552,  0.00513522,  0.00537492,  0.00561462,  0.00585431,\n",
       "         0.00609401,  0.00633371,  0.00657341,  0.00681311,  0.00705281,\n",
       "         0.00729251,  0.00753221,  0.0077719 ,  0.0080116 ,  0.0082513 ,\n",
       "         0.008491  ,  0.0087307 ,  0.0089704 ,  0.0092101 ,  0.0094498 ,\n",
       "         0.0096895 ,  0.00992919,  0.01016889,  0.01040859,  0.01064829,\n",
       "         0.01088799,  0.01112769,  0.01136739,  0.01160709,  0.01184679,\n",
       "         0.01208648,  0.01232618,  0.01256588,  0.01280558,  0.01304528,\n",
       "         0.01328498,  0.01352468,  0.01376438,  0.01400407,  0.01424377,\n",
       "         0.01448347,  0.01472317,  0.01496287,  0.01520257,  0.01544227,\n",
       "         0.01568197]),\n",
       " <a list of 100 Patch objects>)"
      ]
     },
     "execution_count": 10,
     "metadata": {},
     "output_type": "execute_result"
    },
    {
     "data": {
      "image/png": "[encoded data removed]",
      "text/plain": [
       "<Figure size 432x288 with 1 Axes>"
      ]
     },
     "metadata": {
      "needs_background": "light"
     },
     "output_type": "display_data"
    }
   ],
   "source": [
    "plt.hist(p_2_MC-p_2, bins=100)"
   ]
  },
  {
   "cell_type": "code",
   "execution_count": 11,
   "metadata": {},
   "outputs": [
    {
     "data": {
      "text/plain": [
       "(array([  1.,   2.,   2.,   4.,   5.,   7.,  11.,  11.,  14.,  17.,  14.,\n",
       "          6.,  12.,  13.,  24.,  23.,  14.,  20.,  36.,  56.,  61., 147.,\n",
       "        614.,  73.,  67.,  49.,  35.,  22.,  12.,  24.,  24.,  30.,  28.,\n",
       "         23.,  10.,  21.,  14.,  13.,   9.,  15.,  10.,   9.,  13.,  16.,\n",
       "         22.,  29.,  13.,  12.,  30.,  19.,   7.,  10.,  10.,  15.,  23.,\n",
       "         16.,  17.,  15.,  12.,   4.,   9.,   9.,   3.,   6.,   4.,   6.,\n",
       "          2.,   3.,   1.,   1.,   2.,   1.,   2.,   0.,   5.,   0.,   4.,\n",
       "          0.,   3.,   3.,   4.,   3.,   1.,   3.,   2.,   6.,   3.,   4.,\n",
       "          5.,   3.,   2.,   6.,   2.,   2.,   2.,   0.,   1.,   0.,   1.,\n",
       "          1.]),\n",
       " array([-7.37641179e-03, -7.04345492e-03, -6.71049804e-03, -6.37754117e-03,\n",
       "        -6.04458429e-03, -5.71162741e-03, -5.37867054e-03, -5.04571366e-03,\n",
       "        -4.71275679e-03, -4.37979991e-03, -4.04684304e-03, -3.71388616e-03,\n",
       "        -3.38092929e-03, -3.04797241e-03, -2.71501554e-03, -2.38205866e-03,\n",
       "        -2.04910178e-03, -1.71614491e-03, -1.38318803e-03, -1.05023116e-03,\n",
       "        -7.17274283e-04, -3.84317408e-04, -5.13605321e-05,  2.81596343e-04,\n",
       "         6.14553219e-04,  9.47510094e-04,  1.28046697e-03,  1.61342385e-03,\n",
       "         1.94638072e-03,  2.27933760e-03,  2.61229447e-03,  2.94525135e-03,\n",
       "         3.27820822e-03,  3.61116510e-03,  3.94412197e-03,  4.27707885e-03,\n",
       "         4.61003572e-03,  4.94299260e-03,  5.27594947e-03,  5.60890635e-03,\n",
       "         5.94186323e-03,  6.27482010e-03,  6.60777698e-03,  6.94073385e-03,\n",
       "         7.27369073e-03,  7.60664760e-03,  7.93960448e-03,  8.27256135e-03,\n",
       "         8.60551823e-03,  8.93847510e-03,  9.27143198e-03,  9.60438886e-03,\n",
       "         9.93734573e-03,  1.02703026e-02,  1.06032595e-02,  1.09362164e-02,\n",
       "         1.12691732e-02,  1.16021301e-02,  1.19350870e-02,  1.22680439e-02,\n",
       "         1.26010007e-02,  1.29339576e-02,  1.32669145e-02,  1.35998714e-02,\n",
       "         1.39328282e-02,  1.42657851e-02,  1.45987420e-02,  1.49316989e-02,\n",
       "         1.52646557e-02,  1.55976126e-02,  1.59305695e-02,  1.62635264e-02,\n",
       "         1.65964832e-02,  1.69294401e-02,  1.72623970e-02,  1.75953539e-02,\n",
       "         1.79283107e-02,  1.82612676e-02,  1.85942245e-02,  1.89271814e-02,\n",
       "         1.92601382e-02,  1.95930951e-02,  1.99260520e-02,  2.02590089e-02,\n",
       "         2.05919657e-02,  2.09249226e-02,  2.12578795e-02,  2.15908364e-02,\n",
       "         2.19237932e-02,  2.22567501e-02,  2.25897070e-02,  2.29226639e-02,\n",
       "         2.32556207e-02,  2.35885776e-02,  2.39215345e-02,  2.42544914e-02,\n",
       "         2.45874482e-02,  2.49204051e-02,  2.52533620e-02,  2.55863189e-02,\n",
       "         2.59192758e-02]),\n",
       " <a list of 100 Patch objects>)"
      ]
     },
     "execution_count": 11,
     "metadata": {},
     "output_type": "execute_result"
    },
    {
     "data": {
      "image/png": "[encoded data removed]",
      "text/plain": [
       "<Figure size 432x288 with 1 Axes>"
      ]
     },
     "metadata": {
      "needs_background": "light"
     },
     "output_type": "display_data"
    }
   ],
   "source": [
    "# Differences in E(N) are also concentrated around 0.\n",
    "plt.hist(x=E_N_MC-E_N, bins=100)"
   ]
  }
 ],
 "metadata": {
  "kernelspec": {
   "display_name": "Python 3",
   "language": "python",
   "name": "python3"
  },
  "language_info": {
   "codemirror_mode": {
    "name": "ipython",
    "version": 3
   },
   "file_extension": ".py",
   "mimetype": "text/x-python",
   "name": "python",
   "nbconvert_exporter": "python",
   "pygments_lexer": "ipython3",
   "version": "3.7.4"
  }
 },
 "nbformat": 4,
 "nbformat_minor": 2
}
